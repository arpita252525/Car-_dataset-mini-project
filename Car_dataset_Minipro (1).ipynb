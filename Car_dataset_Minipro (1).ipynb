{
  "nbformat": 4,
  "nbformat_minor": 0,
  "metadata": {
    "colab": {
      "provenance": []
    },
    "kernelspec": {
      "name": "python3",
      "display_name": "Python 3"
    },
    "language_info": {
      "name": "python"
    }
  },
  "cells": [
    {
      "cell_type": "code",
      "execution_count": null,
      "metadata": {
        "id": "f5NTBWVlTz1I"
      },
      "outputs": [],
      "source": [
        "#CAR DATASET MINI PROJECT\n"
      ]
    },
    {
      "cell_type": "markdown",
      "source": [],
      "metadata": {
        "id": "1QXRdhZaUW0O"
      }
    },
    {
      "cell_type": "code",
      "source": [
        "import pandas as pd"
      ],
      "metadata": {
        "id": "Qi7pyM7VT-fo"
      },
      "execution_count": null,
      "outputs": []
    },
    {
      "cell_type": "code",
      "source": [
        "df = pd.read_csv(\"/content/sample_data/car_price_dataset.csv.csv\")"
      ],
      "metadata": {
        "id": "NgVT-AlEUEuc"
      },
      "execution_count": null,
      "outputs": []
    },
    {
      "cell_type": "code",
      "source": [
        "df"
      ],
      "metadata": {
        "colab": {
          "base_uri": "https://localhost:8080/",
          "height": 423
        },
        "id": "Cu-Y_YjZUSwm",
        "outputId": "9109ea8d-f56f-44f1-c0a4-d22aec03652b"
      },
      "execution_count": null,
      "outputs": [
        {
          "output_type": "execute_result",
          "data": {
            "text/plain": [
              "           Brand     Model  Year  Engine_Size Fuel_Type    Transmission  \\\n",
              "0            Kia       Rio  2020          4.2    Diesel          Manual   \n",
              "1      Chevrolet    Malibu  2012          2.0    Hybrid       Automatic   \n",
              "2       Mercedes       GLA  2020          4.2    Diesel       Automatic   \n",
              "3           Audi        Q5  2023          2.0  Electric          Manual   \n",
              "4     Volkswagen      Golf  2003          2.6    Hybrid  Semi-Automatic   \n",
              "...          ...       ...   ...          ...       ...             ...   \n",
              "9995         Kia    Optima  2004          3.7    Diesel  Semi-Automatic   \n",
              "9996   Chevrolet    Impala  2002          1.4  Electric       Automatic   \n",
              "9997         BMW  3 Series  2010          3.0    Petrol       Automatic   \n",
              "9998        Ford  Explorer  2002          1.4    Hybrid       Automatic   \n",
              "9999  Volkswagen    Tiguan  2001          2.1    Diesel          Manual   \n",
              "\n",
              "      Mileage  Doors  Owner_Count  Price  \n",
              "0      289944      3            5   8501  \n",
              "1        5356      2            3  12092  \n",
              "2      231440      4            2  11171  \n",
              "3      160971      2            1  11780  \n",
              "4      286618      3            3   2867  \n",
              "...       ...    ...          ...    ...  \n",
              "9995     5794      2            4   8884  \n",
              "9996   168000      2            1   6240  \n",
              "9997    86664      5            1   9866  \n",
              "9998   225772      4            1   4084  \n",
              "9999   157882      3            3   3342  \n",
              "\n",
              "[10000 rows x 10 columns]"
            ],
            "text/html": [
              "\n",
              "  <div id=\"df-7d37e117-2065-4dca-aea8-2e8880344c30\" class=\"colab-df-container\">\n",
              "    <div>\n",
              "<style scoped>\n",
              "    .dataframe tbody tr th:only-of-type {\n",
              "        vertical-align: middle;\n",
              "    }\n",
              "\n",
              "    .dataframe tbody tr th {\n",
              "        vertical-align: top;\n",
              "    }\n",
              "\n",
              "    .dataframe thead th {\n",
              "        text-align: right;\n",
              "    }\n",
              "</style>\n",
              "<table border=\"1\" class=\"dataframe\">\n",
              "  <thead>\n",
              "    <tr style=\"text-align: right;\">\n",
              "      <th></th>\n",
              "      <th>Brand</th>\n",
              "      <th>Model</th>\n",
              "      <th>Year</th>\n",
              "      <th>Engine_Size</th>\n",
              "      <th>Fuel_Type</th>\n",
              "      <th>Transmission</th>\n",
              "      <th>Mileage</th>\n",
              "      <th>Doors</th>\n",
              "      <th>Owner_Count</th>\n",
              "      <th>Price</th>\n",
              "    </tr>\n",
              "  </thead>\n",
              "  <tbody>\n",
              "    <tr>\n",
              "      <th>0</th>\n",
              "      <td>Kia</td>\n",
              "      <td>Rio</td>\n",
              "      <td>2020</td>\n",
              "      <td>4.2</td>\n",
              "      <td>Diesel</td>\n",
              "      <td>Manual</td>\n",
              "      <td>289944</td>\n",
              "      <td>3</td>\n",
              "      <td>5</td>\n",
              "      <td>8501</td>\n",
              "    </tr>\n",
              "    <tr>\n",
              "      <th>1</th>\n",
              "      <td>Chevrolet</td>\n",
              "      <td>Malibu</td>\n",
              "      <td>2012</td>\n",
              "      <td>2.0</td>\n",
              "      <td>Hybrid</td>\n",
              "      <td>Automatic</td>\n",
              "      <td>5356</td>\n",
              "      <td>2</td>\n",
              "      <td>3</td>\n",
              "      <td>12092</td>\n",
              "    </tr>\n",
              "    <tr>\n",
              "      <th>2</th>\n",
              "      <td>Mercedes</td>\n",
              "      <td>GLA</td>\n",
              "      <td>2020</td>\n",
              "      <td>4.2</td>\n",
              "      <td>Diesel</td>\n",
              "      <td>Automatic</td>\n",
              "      <td>231440</td>\n",
              "      <td>4</td>\n",
              "      <td>2</td>\n",
              "      <td>11171</td>\n",
              "    </tr>\n",
              "    <tr>\n",
              "      <th>3</th>\n",
              "      <td>Audi</td>\n",
              "      <td>Q5</td>\n",
              "      <td>2023</td>\n",
              "      <td>2.0</td>\n",
              "      <td>Electric</td>\n",
              "      <td>Manual</td>\n",
              "      <td>160971</td>\n",
              "      <td>2</td>\n",
              "      <td>1</td>\n",
              "      <td>11780</td>\n",
              "    </tr>\n",
              "    <tr>\n",
              "      <th>4</th>\n",
              "      <td>Volkswagen</td>\n",
              "      <td>Golf</td>\n",
              "      <td>2003</td>\n",
              "      <td>2.6</td>\n",
              "      <td>Hybrid</td>\n",
              "      <td>Semi-Automatic</td>\n",
              "      <td>286618</td>\n",
              "      <td>3</td>\n",
              "      <td>3</td>\n",
              "      <td>2867</td>\n",
              "    </tr>\n",
              "    <tr>\n",
              "      <th>...</th>\n",
              "      <td>...</td>\n",
              "      <td>...</td>\n",
              "      <td>...</td>\n",
              "      <td>...</td>\n",
              "      <td>...</td>\n",
              "      <td>...</td>\n",
              "      <td>...</td>\n",
              "      <td>...</td>\n",
              "      <td>...</td>\n",
              "      <td>...</td>\n",
              "    </tr>\n",
              "    <tr>\n",
              "      <th>9995</th>\n",
              "      <td>Kia</td>\n",
              "      <td>Optima</td>\n",
              "      <td>2004</td>\n",
              "      <td>3.7</td>\n",
              "      <td>Diesel</td>\n",
              "      <td>Semi-Automatic</td>\n",
              "      <td>5794</td>\n",
              "      <td>2</td>\n",
              "      <td>4</td>\n",
              "      <td>8884</td>\n",
              "    </tr>\n",
              "    <tr>\n",
              "      <th>9996</th>\n",
              "      <td>Chevrolet</td>\n",
              "      <td>Impala</td>\n",
              "      <td>2002</td>\n",
              "      <td>1.4</td>\n",
              "      <td>Electric</td>\n",
              "      <td>Automatic</td>\n",
              "      <td>168000</td>\n",
              "      <td>2</td>\n",
              "      <td>1</td>\n",
              "      <td>6240</td>\n",
              "    </tr>\n",
              "    <tr>\n",
              "      <th>9997</th>\n",
              "      <td>BMW</td>\n",
              "      <td>3 Series</td>\n",
              "      <td>2010</td>\n",
              "      <td>3.0</td>\n",
              "      <td>Petrol</td>\n",
              "      <td>Automatic</td>\n",
              "      <td>86664</td>\n",
              "      <td>5</td>\n",
              "      <td>1</td>\n",
              "      <td>9866</td>\n",
              "    </tr>\n",
              "    <tr>\n",
              "      <th>9998</th>\n",
              "      <td>Ford</td>\n",
              "      <td>Explorer</td>\n",
              "      <td>2002</td>\n",
              "      <td>1.4</td>\n",
              "      <td>Hybrid</td>\n",
              "      <td>Automatic</td>\n",
              "      <td>225772</td>\n",
              "      <td>4</td>\n",
              "      <td>1</td>\n",
              "      <td>4084</td>\n",
              "    </tr>\n",
              "    <tr>\n",
              "      <th>9999</th>\n",
              "      <td>Volkswagen</td>\n",
              "      <td>Tiguan</td>\n",
              "      <td>2001</td>\n",
              "      <td>2.1</td>\n",
              "      <td>Diesel</td>\n",
              "      <td>Manual</td>\n",
              "      <td>157882</td>\n",
              "      <td>3</td>\n",
              "      <td>3</td>\n",
              "      <td>3342</td>\n",
              "    </tr>\n",
              "  </tbody>\n",
              "</table>\n",
              "<p>10000 rows × 10 columns</p>\n",
              "</div>\n",
              "    <div class=\"colab-df-buttons\">\n",
              "\n",
              "  <div class=\"colab-df-container\">\n",
              "    <button class=\"colab-df-convert\" onclick=\"convertToInteractive('df-7d37e117-2065-4dca-aea8-2e8880344c30')\"\n",
              "            title=\"Convert this dataframe to an interactive table.\"\n",
              "            style=\"display:none;\">\n",
              "\n",
              "  <svg xmlns=\"http://www.w3.org/2000/svg\" height=\"24px\" viewBox=\"0 -960 960 960\">\n",
              "    <path d=\"M120-120v-720h720v720H120Zm60-500h600v-160H180v160Zm220 220h160v-160H400v160Zm0 220h160v-160H400v160ZM180-400h160v-160H180v160Zm440 0h160v-160H620v160ZM180-180h160v-160H180v160Zm440 0h160v-160H620v160Z\"/>\n",
              "  </svg>\n",
              "    </button>\n",
              "\n",
              "  <style>\n",
              "    .colab-df-container {\n",
              "      display:flex;\n",
              "      gap: 12px;\n",
              "    }\n",
              "\n",
              "    .colab-df-convert {\n",
              "      background-color: #E8F0FE;\n",
              "      border: none;\n",
              "      border-radius: 50%;\n",
              "      cursor: pointer;\n",
              "      display: none;\n",
              "      fill: #1967D2;\n",
              "      height: 32px;\n",
              "      padding: 0 0 0 0;\n",
              "      width: 32px;\n",
              "    }\n",
              "\n",
              "    .colab-df-convert:hover {\n",
              "      background-color: #E2EBFA;\n",
              "      box-shadow: 0px 1px 2px rgba(60, 64, 67, 0.3), 0px 1px 3px 1px rgba(60, 64, 67, 0.15);\n",
              "      fill: #174EA6;\n",
              "    }\n",
              "\n",
              "    .colab-df-buttons div {\n",
              "      margin-bottom: 4px;\n",
              "    }\n",
              "\n",
              "    [theme=dark] .colab-df-convert {\n",
              "      background-color: #3B4455;\n",
              "      fill: #D2E3FC;\n",
              "    }\n",
              "\n",
              "    [theme=dark] .colab-df-convert:hover {\n",
              "      background-color: #434B5C;\n",
              "      box-shadow: 0px 1px 3px 1px rgba(0, 0, 0, 0.15);\n",
              "      filter: drop-shadow(0px 1px 2px rgba(0, 0, 0, 0.3));\n",
              "      fill: #FFFFFF;\n",
              "    }\n",
              "  </style>\n",
              "\n",
              "    <script>\n",
              "      const buttonEl =\n",
              "        document.querySelector('#df-7d37e117-2065-4dca-aea8-2e8880344c30 button.colab-df-convert');\n",
              "      buttonEl.style.display =\n",
              "        google.colab.kernel.accessAllowed ? 'block' : 'none';\n",
              "\n",
              "      async function convertToInteractive(key) {\n",
              "        const element = document.querySelector('#df-7d37e117-2065-4dca-aea8-2e8880344c30');\n",
              "        const dataTable =\n",
              "          await google.colab.kernel.invokeFunction('convertToInteractive',\n",
              "                                                    [key], {});\n",
              "        if (!dataTable) return;\n",
              "\n",
              "        const docLinkHtml = 'Like what you see? Visit the ' +\n",
              "          '<a target=\"_blank\" href=https://colab.research.google.com/notebooks/data_table.ipynb>data table notebook</a>'\n",
              "          + ' to learn more about interactive tables.';\n",
              "        element.innerHTML = '';\n",
              "        dataTable['output_type'] = 'display_data';\n",
              "        await google.colab.output.renderOutput(dataTable, element);\n",
              "        const docLink = document.createElement('div');\n",
              "        docLink.innerHTML = docLinkHtml;\n",
              "        element.appendChild(docLink);\n",
              "      }\n",
              "    </script>\n",
              "  </div>\n",
              "\n",
              "\n",
              "    <div id=\"df-6c483f07-b017-4849-b137-db2c09a2a7e3\">\n",
              "      <button class=\"colab-df-quickchart\" onclick=\"quickchart('df-6c483f07-b017-4849-b137-db2c09a2a7e3')\"\n",
              "                title=\"Suggest charts\"\n",
              "                style=\"display:none;\">\n",
              "\n",
              "<svg xmlns=\"http://www.w3.org/2000/svg\" height=\"24px\"viewBox=\"0 0 24 24\"\n",
              "     width=\"24px\">\n",
              "    <g>\n",
              "        <path d=\"M19 3H5c-1.1 0-2 .9-2 2v14c0 1.1.9 2 2 2h14c1.1 0 2-.9 2-2V5c0-1.1-.9-2-2-2zM9 17H7v-7h2v7zm4 0h-2V7h2v10zm4 0h-2v-4h2v4z\"/>\n",
              "    </g>\n",
              "</svg>\n",
              "      </button>\n",
              "\n",
              "<style>\n",
              "  .colab-df-quickchart {\n",
              "      --bg-color: #E8F0FE;\n",
              "      --fill-color: #1967D2;\n",
              "      --hover-bg-color: #E2EBFA;\n",
              "      --hover-fill-color: #174EA6;\n",
              "      --disabled-fill-color: #AAA;\n",
              "      --disabled-bg-color: #DDD;\n",
              "  }\n",
              "\n",
              "  [theme=dark] .colab-df-quickchart {\n",
              "      --bg-color: #3B4455;\n",
              "      --fill-color: #D2E3FC;\n",
              "      --hover-bg-color: #434B5C;\n",
              "      --hover-fill-color: #FFFFFF;\n",
              "      --disabled-bg-color: #3B4455;\n",
              "      --disabled-fill-color: #666;\n",
              "  }\n",
              "\n",
              "  .colab-df-quickchart {\n",
              "    background-color: var(--bg-color);\n",
              "    border: none;\n",
              "    border-radius: 50%;\n",
              "    cursor: pointer;\n",
              "    display: none;\n",
              "    fill: var(--fill-color);\n",
              "    height: 32px;\n",
              "    padding: 0;\n",
              "    width: 32px;\n",
              "  }\n",
              "\n",
              "  .colab-df-quickchart:hover {\n",
              "    background-color: var(--hover-bg-color);\n",
              "    box-shadow: 0 1px 2px rgba(60, 64, 67, 0.3), 0 1px 3px 1px rgba(60, 64, 67, 0.15);\n",
              "    fill: var(--button-hover-fill-color);\n",
              "  }\n",
              "\n",
              "  .colab-df-quickchart-complete:disabled,\n",
              "  .colab-df-quickchart-complete:disabled:hover {\n",
              "    background-color: var(--disabled-bg-color);\n",
              "    fill: var(--disabled-fill-color);\n",
              "    box-shadow: none;\n",
              "  }\n",
              "\n",
              "  .colab-df-spinner {\n",
              "    border: 2px solid var(--fill-color);\n",
              "    border-color: transparent;\n",
              "    border-bottom-color: var(--fill-color);\n",
              "    animation:\n",
              "      spin 1s steps(1) infinite;\n",
              "  }\n",
              "\n",
              "  @keyframes spin {\n",
              "    0% {\n",
              "      border-color: transparent;\n",
              "      border-bottom-color: var(--fill-color);\n",
              "      border-left-color: var(--fill-color);\n",
              "    }\n",
              "    20% {\n",
              "      border-color: transparent;\n",
              "      border-left-color: var(--fill-color);\n",
              "      border-top-color: var(--fill-color);\n",
              "    }\n",
              "    30% {\n",
              "      border-color: transparent;\n",
              "      border-left-color: var(--fill-color);\n",
              "      border-top-color: var(--fill-color);\n",
              "      border-right-color: var(--fill-color);\n",
              "    }\n",
              "    40% {\n",
              "      border-color: transparent;\n",
              "      border-right-color: var(--fill-color);\n",
              "      border-top-color: var(--fill-color);\n",
              "    }\n",
              "    60% {\n",
              "      border-color: transparent;\n",
              "      border-right-color: var(--fill-color);\n",
              "    }\n",
              "    80% {\n",
              "      border-color: transparent;\n",
              "      border-right-color: var(--fill-color);\n",
              "      border-bottom-color: var(--fill-color);\n",
              "    }\n",
              "    90% {\n",
              "      border-color: transparent;\n",
              "      border-bottom-color: var(--fill-color);\n",
              "    }\n",
              "  }\n",
              "</style>\n",
              "\n",
              "      <script>\n",
              "        async function quickchart(key) {\n",
              "          const quickchartButtonEl =\n",
              "            document.querySelector('#' + key + ' button');\n",
              "          quickchartButtonEl.disabled = true;  // To prevent multiple clicks.\n",
              "          quickchartButtonEl.classList.add('colab-df-spinner');\n",
              "          try {\n",
              "            const charts = await google.colab.kernel.invokeFunction(\n",
              "                'suggestCharts', [key], {});\n",
              "          } catch (error) {\n",
              "            console.error('Error during call to suggestCharts:', error);\n",
              "          }\n",
              "          quickchartButtonEl.classList.remove('colab-df-spinner');\n",
              "          quickchartButtonEl.classList.add('colab-df-quickchart-complete');\n",
              "        }\n",
              "        (() => {\n",
              "          let quickchartButtonEl =\n",
              "            document.querySelector('#df-6c483f07-b017-4849-b137-db2c09a2a7e3 button');\n",
              "          quickchartButtonEl.style.display =\n",
              "            google.colab.kernel.accessAllowed ? 'block' : 'none';\n",
              "        })();\n",
              "      </script>\n",
              "    </div>\n",
              "\n",
              "  <div id=\"id_4b75373c-863b-4848-81d8-327d13431666\">\n",
              "    <style>\n",
              "      .colab-df-generate {\n",
              "        background-color: #E8F0FE;\n",
              "        border: none;\n",
              "        border-radius: 50%;\n",
              "        cursor: pointer;\n",
              "        display: none;\n",
              "        fill: #1967D2;\n",
              "        height: 32px;\n",
              "        padding: 0 0 0 0;\n",
              "        width: 32px;\n",
              "      }\n",
              "\n",
              "      .colab-df-generate:hover {\n",
              "        background-color: #E2EBFA;\n",
              "        box-shadow: 0px 1px 2px rgba(60, 64, 67, 0.3), 0px 1px 3px 1px rgba(60, 64, 67, 0.15);\n",
              "        fill: #174EA6;\n",
              "      }\n",
              "\n",
              "      [theme=dark] .colab-df-generate {\n",
              "        background-color: #3B4455;\n",
              "        fill: #D2E3FC;\n",
              "      }\n",
              "\n",
              "      [theme=dark] .colab-df-generate:hover {\n",
              "        background-color: #434B5C;\n",
              "        box-shadow: 0px 1px 3px 1px rgba(0, 0, 0, 0.15);\n",
              "        filter: drop-shadow(0px 1px 2px rgba(0, 0, 0, 0.3));\n",
              "        fill: #FFFFFF;\n",
              "      }\n",
              "    </style>\n",
              "    <button class=\"colab-df-generate\" onclick=\"generateWithVariable('df')\"\n",
              "            title=\"Generate code using this dataframe.\"\n",
              "            style=\"display:none;\">\n",
              "\n",
              "  <svg xmlns=\"http://www.w3.org/2000/svg\" height=\"24px\"viewBox=\"0 0 24 24\"\n",
              "       width=\"24px\">\n",
              "    <path d=\"M7,19H8.4L18.45,9,17,7.55,7,17.6ZM5,21V16.75L18.45,3.32a2,2,0,0,1,2.83,0l1.4,1.43a1.91,1.91,0,0,1,.58,1.4,1.91,1.91,0,0,1-.58,1.4L9.25,21ZM18.45,9,17,7.55Zm-12,3A5.31,5.31,0,0,0,4.9,8.1,5.31,5.31,0,0,0,1,6.5,5.31,5.31,0,0,0,4.9,4.9,5.31,5.31,0,0,0,6.5,1,5.31,5.31,0,0,0,8.1,4.9,5.31,5.31,0,0,0,12,6.5,5.46,5.46,0,0,0,6.5,12Z\"/>\n",
              "  </svg>\n",
              "    </button>\n",
              "    <script>\n",
              "      (() => {\n",
              "      const buttonEl =\n",
              "        document.querySelector('#id_4b75373c-863b-4848-81d8-327d13431666 button.colab-df-generate');\n",
              "      buttonEl.style.display =\n",
              "        google.colab.kernel.accessAllowed ? 'block' : 'none';\n",
              "\n",
              "      buttonEl.onclick = () => {\n",
              "        google.colab.notebook.generateWithVariable('df');\n",
              "      }\n",
              "      })();\n",
              "    </script>\n",
              "  </div>\n",
              "\n",
              "    </div>\n",
              "  </div>\n"
            ],
            "application/vnd.google.colaboratory.intrinsic+json": {
              "type": "dataframe",
              "variable_name": "df",
              "summary": "{\n  \"name\": \"df\",\n  \"rows\": 10000,\n  \"fields\": [\n    {\n      \"column\": \"Brand\",\n      \"properties\": {\n        \"dtype\": \"category\",\n        \"num_unique_values\": 10,\n        \"samples\": [\n          \"Hyundai\",\n          \"Chevrolet\",\n          \"Toyota\"\n        ],\n        \"semantic_type\": \"\",\n        \"description\": \"\"\n      }\n    },\n    {\n      \"column\": \"Model\",\n      \"properties\": {\n        \"dtype\": \"category\",\n        \"num_unique_values\": 30,\n        \"samples\": [\n          \"C-Class\",\n          \"A3\",\n          \"A4\"\n        ],\n        \"semantic_type\": \"\",\n        \"description\": \"\"\n      }\n    },\n    {\n      \"column\": \"Year\",\n      \"properties\": {\n        \"dtype\": \"number\",\n        \"std\": 6,\n        \"min\": 2000,\n        \"max\": 2023,\n        \"num_unique_values\": 24,\n        \"samples\": [\n          2005,\n          2018,\n          2020\n        ],\n        \"semantic_type\": \"\",\n        \"description\": \"\"\n      }\n    },\n    {\n      \"column\": \"Engine_Size\",\n      \"properties\": {\n        \"dtype\": \"number\",\n        \"std\": 1.149324053945646,\n        \"min\": 1.0,\n        \"max\": 5.0,\n        \"num_unique_values\": 41,\n        \"samples\": [\n          1.0,\n          2.9,\n          4.5\n        ],\n        \"semantic_type\": \"\",\n        \"description\": \"\"\n      }\n    },\n    {\n      \"column\": \"Fuel_Type\",\n      \"properties\": {\n        \"dtype\": \"category\",\n        \"num_unique_values\": 4,\n        \"samples\": [\n          \"Hybrid\",\n          \"Petrol\",\n          \"Diesel\"\n        ],\n        \"semantic_type\": \"\",\n        \"description\": \"\"\n      }\n    },\n    {\n      \"column\": \"Transmission\",\n      \"properties\": {\n        \"dtype\": \"category\",\n        \"num_unique_values\": 3,\n        \"samples\": [\n          \"Manual\",\n          \"Automatic\",\n          \"Semi-Automatic\"\n        ],\n        \"semantic_type\": \"\",\n        \"description\": \"\"\n      }\n    },\n    {\n      \"column\": \"Mileage\",\n      \"properties\": {\n        \"dtype\": \"number\",\n        \"std\": 86322,\n        \"min\": 25,\n        \"max\": 299947,\n        \"num_unique_values\": 9854,\n        \"samples\": [\n          144244,\n          105615,\n          8332\n        ],\n        \"semantic_type\": \"\",\n        \"description\": \"\"\n      }\n    },\n    {\n      \"column\": \"Doors\",\n      \"properties\": {\n        \"dtype\": \"number\",\n        \"std\": 1,\n        \"min\": 2,\n        \"max\": 5,\n        \"num_unique_values\": 4,\n        \"samples\": [\n          2,\n          5,\n          3\n        ],\n        \"semantic_type\": \"\",\n        \"description\": \"\"\n      }\n    },\n    {\n      \"column\": \"Owner_Count\",\n      \"properties\": {\n        \"dtype\": \"number\",\n        \"std\": 1,\n        \"min\": 1,\n        \"max\": 5,\n        \"num_unique_values\": 5,\n        \"samples\": [\n          3,\n          4,\n          2\n        ],\n        \"semantic_type\": \"\",\n        \"description\": \"\"\n      }\n    },\n    {\n      \"column\": \"Price\",\n      \"properties\": {\n        \"dtype\": \"number\",\n        \"std\": 3112,\n        \"min\": 2000,\n        \"max\": 18301,\n        \"num_unique_values\": 6661,\n        \"samples\": [\n          10460,\n          8448,\n          12616\n        ],\n        \"semantic_type\": \"\",\n        \"description\": \"\"\n      }\n    }\n  ]\n}"
            }
          },
          "metadata": {},
          "execution_count": 4
        }
      ]
    },
    {
      "cell_type": "code",
      "source": [
        "#1. What is the average price of all cars in the dataset?\n",
        "average_price = df['Price'].mean()\n",
        "print(f\" Average Price of All Cars: ${average_price:.2f}\")"
      ],
      "metadata": {
        "colab": {
          "base_uri": "https://localhost:8080/"
        },
        "id": "izsg0i1qUTZ_",
        "outputId": "e58c586a-48ca-40b1-9c56-af8ade24eda2"
      },
      "execution_count": null,
      "outputs": [
        {
          "output_type": "stream",
          "name": "stdout",
          "text": [
            " Average Price of All Cars: $8852.96\n"
          ]
        }
      ]
    },
    {
      "cell_type": "code",
      "source": [
        "# 2. Brand with the highest average price\n",
        "highest_avg_price_brand = df.groupby('Brand')['Price'].mean().idxmax()\n",
        "print(f\" Brand with Highest Avg Price: {highest_avg_price_brand}\")"
      ],
      "metadata": {
        "colab": {
          "base_uri": "https://localhost:8080/"
        },
        "id": "9QiYEXoUU8N5",
        "outputId": "8ad1fc1f-ad3e-4a8a-a3dd-b0b9c0f99c5d"
      },
      "execution_count": null,
      "outputs": [
        {
          "output_type": "stream",
          "name": "stdout",
          "text": [
            " Brand with Highest Avg Price: Chevrolet\n"
          ]
        }
      ]
    },
    {
      "cell_type": "code",
      "source": [
        "# 3. Most common fuel type\n",
        "most_common_fuel = df['Fuel_Type'].mode()[0]\n",
        "print(f\" Most Common Fuel Type: {most_common_fuel}\")\n"
      ],
      "metadata": {
        "colab": {
          "base_uri": "https://localhost:8080/"
        },
        "id": "c0RMYHOFVgvk",
        "outputId": "58a1dd5b-2542-4e6b-dc0e-1384adb9f18f"
      },
      "execution_count": null,
      "outputs": [
        {
          "output_type": "stream",
          "name": "stdout",
          "text": [
            " Most Common Fuel Type: Electric\n"
          ]
        }
      ]
    },
    {
      "cell_type": "code",
      "source": [
        "# 4. Number of cars with mileage greater than 200,000\n",
        "high_mileage_count = df[df['Mileage'] > 200000].shape[0]\n",
        "print(f\" Number of cars with mileage greater than 200,000 : {high_mileage_count}\")\n"
      ],
      "metadata": {
        "colab": {
          "base_uri": "https://localhost:8080/"
        },
        "id": "T8egG6Y5WAy_",
        "outputId": "4e74b286-9f65-47b9-da14-0acb4bb5f572"
      },
      "execution_count": null,
      "outputs": [
        {
          "output_type": "stream",
          "name": "stdout",
          "text": [
            " Number of cars with mileage greater than 200,000 : 3290\n"
          ]
        }
      ]
    },
    {
      "cell_type": "code",
      "source": [
        "# 5. Distribution of cars by transmission type\n",
        "transmission_distribution = df['Transmission'].value_counts()\n",
        "print(f\" Distribution of cars by transmission type : {transmission_distribution}\")"
      ],
      "metadata": {
        "colab": {
          "base_uri": "https://localhost:8080/"
        },
        "id": "bi-3V91QWg6G",
        "outputId": "aab87891-0d89-449e-e2d9-18129d86db60"
      },
      "execution_count": null,
      "outputs": [
        {
          "output_type": "stream",
          "name": "stdout",
          "text": [
            " Distribution of cars by transmission type : Transmission\n",
            "Manual            3372\n",
            "Automatic         3317\n",
            "Semi-Automatic    3311\n",
            "Name: count, dtype: int64\n"
          ]
        }
      ]
    },
    {
      "cell_type": "code",
      "source": [
        "# 6. Car model with the highest price\n",
        "highest_price_car = df.loc[df['Price'].idxmax(), ['Brand', 'Model', 'Price']]\n",
        "print(f\" Car model with the highest price: {highest_price_car}\")"
      ],
      "metadata": {
        "colab": {
          "base_uri": "https://localhost:8080/"
        },
        "id": "sInra2kOW1J0",
        "outputId": "6d8ba63e-8e6c-404b-d041-3d47318973cb"
      },
      "execution_count": null,
      "outputs": [
        {
          "output_type": "stream",
          "name": "stdout",
          "text": [
            " Car model with the highest price: Brand     Toyota\n",
            "Model    Corolla\n",
            "Price      18301\n",
            "Name: 1100, dtype: object\n"
          ]
        }
      ]
    },
    {
      "cell_type": "code",
      "source": [
        "# 7. Average price of cars by fuel type\n",
        "avg_price_by_fuel = df.groupby('Fuel_Type')['Price'].mean()\n",
        "print(f\" Average price of cars by fuel type: {avg_price_by_fuel}\")\n"
      ],
      "metadata": {
        "colab": {
          "base_uri": "https://localhost:8080/"
        },
        "id": "Zi-a9jnZXJoC",
        "outputId": "d0f97cfc-aa20-4319-cfd9-38f63678e8ee"
      },
      "execution_count": null,
      "outputs": [
        {
          "output_type": "stream",
          "name": "stdout",
          "text": [
            " Average price of cars by fuel type: Fuel_Type\n",
            "Diesel       8117.336385\n",
            "Electric    10032.220190\n",
            "Hybrid       9113.030167\n",
            "Petrol       8070.561826\n",
            "Name: Price, dtype: float64\n"
          ]
        }
      ]
    },
    {
      "cell_type": "code",
      "source": [
        "# 8. Cars from year 2020 or later\n",
        "cars_2020_later_count = df[df['Year'] >= 2020].shape[0]\n",
        "print(f\" Cars from year 2020 or later are {cars_2020_later_count}\")"
      ],
      "metadata": {
        "colab": {
          "base_uri": "https://localhost:8080/"
        },
        "id": "N_9RkjFoXexV",
        "outputId": "48de51b3-b9b7-48d3-dceb-14c10a0db819"
      },
      "execution_count": null,
      "outputs": [
        {
          "output_type": "stream",
          "name": "stdout",
          "text": [
            " Cars from year 2020 or later are 1651\n"
          ]
        }
      ]
    },
    {
      "cell_type": "code",
      "source": [
        "# 9. Average engine size for each brand\n",
        "avg_engine_size_by_brand = df.groupby('Brand')['Engine_Size'].mean()\n",
        "print(f\" Average engine size fro each brand: {avg_engine_size_by_brand}\")"
      ],
      "metadata": {
        "colab": {
          "base_uri": "https://localhost:8080/"
        },
        "id": "OZNuSRsnXuH5",
        "outputId": "88aad6a6-a6a3-4af9-b91b-9498ad3d4200"
      },
      "execution_count": null,
      "outputs": [
        {
          "output_type": "stream",
          "name": "stdout",
          "text": [
            " Average engine size fro each brand: Brand\n",
            "Audi          3.032948\n",
            "BMW           2.976877\n",
            "Chevrolet     2.993719\n",
            "Ford          3.044275\n",
            "Honda         2.925966\n",
            "Hyundai       2.936683\n",
            "Kia           3.053791\n",
            "Mercedes      3.069745\n",
            "Toyota        2.961443\n",
            "Volkswagen    3.011078\n",
            "Name: Engine_Size, dtype: float64\n"
          ]
        }
      ]
    },
    {
      "cell_type": "code",
      "source": [
        "# 10. Car with lowest mileage\n",
        "lowest_mileage_car = df.loc[df['Mileage'].idxmin(), ['Brand', 'Model', 'Mileage']]\n",
        "print(f\" Lowest Mileage Car: {lowest_mileage_car.to_dict()}\")\n"
      ],
      "metadata": {
        "colab": {
          "base_uri": "https://localhost:8080/"
        },
        "id": "EmYYYAodYBdF",
        "outputId": "a6071811-3705-4a16-a74d-4c26bcfeddbb"
      },
      "execution_count": null,
      "outputs": [
        {
          "output_type": "stream",
          "name": "stdout",
          "text": [
            " Lowest Mileage Car: {'Brand': 'Ford', 'Model': 'Explorer', 'Mileage': 25}\n"
          ]
        }
      ]
    },
    {
      "cell_type": "code",
      "source": [
        "# 11. Correlation between mileage and price\n",
        "mileage_price_correlation = df['Mileage'].corr(df['Price'])\n",
        "print(f\" Mileage vs Price Correlation: {mileage_price_correlation:.2f}\")"
      ],
      "metadata": {
        "colab": {
          "base_uri": "https://localhost:8080/"
        },
        "id": "uLmsxhk7YHXE",
        "outputId": "de429f37-92e8-415a-8998-09ba402bdda7"
      },
      "execution_count": null,
      "outputs": [
        {
          "output_type": "stream",
          "name": "stdout",
          "text": [
            " Mileage vs Price Correlation: -0.55\n"
          ]
        }
      ]
    },
    {
      "cell_type": "code",
      "source": [
        "# 12. Cars with more than 2 owners\n",
        "more_than_2_owners_count = df[df['Owner_Count'] > 2].shape[0]\n",
        "print(f\" Cars with >2 Owners: {more_than_2_owners_count}\")"
      ],
      "metadata": {
        "colab": {
          "base_uri": "https://localhost:8080/"
        },
        "id": "3zhO-yP0YkrA",
        "outputId": "a4edbf81-9626-4f33-ea36-551358896137"
      },
      "execution_count": null,
      "outputs": [
        {
          "output_type": "stream",
          "name": "stdout",
          "text": [
            " Cars with >2 Owners: 5944\n"
          ]
        }
      ]
    },
    {
      "cell_type": "code",
      "source": [
        "# 13. Average price of cars by year\n",
        "avg_price_by_year = df.groupby('Year')['Price'].mean()\n",
        "print(f\" Avg price of cars by year is {avg_price_by_year}\")"
      ],
      "metadata": {
        "colab": {
          "base_uri": "https://localhost:8080/"
        },
        "id": "Ywi_bDPgYyAL",
        "outputId": "0baa496b-cf73-4a20-ea57-0222a4e8aad1"
      },
      "execution_count": null,
      "outputs": [
        {
          "output_type": "stream",
          "name": "stdout",
          "text": [
            " Avg price of cars by year is Year\n",
            "2000     5393.735369\n",
            "2001     5904.064039\n",
            "2002     5956.751082\n",
            "2003     6225.834646\n",
            "2004     6330.725888\n",
            "2005     6943.037123\n",
            "2006     7249.961446\n",
            "2007     7632.513953\n",
            "2008     7728.418848\n",
            "2009     8083.917293\n",
            "2010     8503.419954\n",
            "2011     8622.855234\n",
            "2012     9011.446224\n",
            "2013     9114.208531\n",
            "2014     9587.455635\n",
            "2015     9896.774648\n",
            "2016    10177.600000\n",
            "2017    10343.757506\n",
            "2018    10939.192941\n",
            "2019    11132.722090\n",
            "2020    11495.284337\n",
            "2021    11637.813299\n",
            "2022    12067.690176\n",
            "2023    12169.470982\n",
            "Name: Price, dtype: float64\n"
          ]
        }
      ]
    },
    {
      "cell_type": "code",
      "source": [
        "# 14. Car with the highest number of doors\n",
        "most_doors_car = df.loc[df['Doors'].idxmax(), ['Brand', 'Model', 'Doors']]\n",
        "print(f\" Car with the highest number of doors is {most_doors_car}\")"
      ],
      "metadata": {
        "colab": {
          "base_uri": "https://localhost:8080/"
        },
        "id": "wIIDhFibY3hG",
        "outputId": "06af29ef-a6d0-456d-e128-085d93b645ab"
      },
      "execution_count": null,
      "outputs": [
        {
          "output_type": "stream",
          "name": "stdout",
          "text": [
            " Car with the highest number of doors is Brand    Volkswagen\n",
            "Model          Golf\n",
            "Doors             5\n",
            "Name: 14, dtype: object\n"
          ]
        }
      ]
    },
    {
      "cell_type": "code",
      "source": [
        "# 15. Average mileage for each fuel type\n",
        "avg_mileage_by_fuel = df.groupby('Fuel_Type')['Mileage'].mean()\n",
        "print(f\" Average mileage for each fuel type:{avg_mileage_by_fuel}\")"
      ],
      "metadata": {
        "colab": {
          "base_uri": "https://localhost:8080/"
        },
        "id": "EOxjPLaLY7WY",
        "outputId": "c2013f60-51a4-45be-f066-9e3428dcc6fb"
      },
      "execution_count": null,
      "outputs": [
        {
          "output_type": "stream",
          "name": "stdout",
          "text": [
            " Average mileage for each fuel type:Fuel_Type\n",
            "Diesel      150261.533041\n",
            "Electric    151059.307429\n",
            "Hybrid      145577.587036\n",
            "Petrol      149917.694606\n",
            "Name: Mileage, dtype: float64\n"
          ]
        }
      ]
    },
    {
      "cell_type": "code",
      "source": [
        "# 16. Number of cars from the brand 'Toyota'\n",
        "toyota_count = df[df['Brand'] == 'Toyota'].shape[0]\n",
        "print(f\"Number of cars form the brand 'Toyota' :{toyota_count}\")"
      ],
      "metadata": {
        "colab": {
          "base_uri": "https://localhost:8080/"
        },
        "id": "QoJzNidzY-lg",
        "outputId": "242111b3-3175-4170-d2da-6f40aa4fc352"
      },
      "execution_count": null,
      "outputs": [
        {
          "output_type": "stream",
          "name": "stdout",
          "text": [
            "Number of cars form the brand 'Toyota' :970\n"
          ]
        }
      ]
    },
    {
      "cell_type": "code",
      "source": [
        "# 17. Average price of cars with automatic transmission\n",
        "avg_price_automatic = df[df['Transmission'] == 'Automatic']['Price'].mean()\n",
        "print(f\" Average price of cars with automatic transmission : {avg_price_automatic}\")"
      ],
      "metadata": {
        "colab": {
          "base_uri": "https://localhost:8080/"
        },
        "id": "zDtgi9LXZBln",
        "outputId": "3b25ad6c-27a5-48a6-a39a-cdabf517a7f2"
      },
      "execution_count": null,
      "outputs": [
        {
          "output_type": "stream",
          "name": "stdout",
          "text": [
            " Average price of cars with automatic transmission : 9938.252939403075\n"
          ]
        }
      ]
    },
    {
      "cell_type": "code",
      "source": [
        "# 18. Car with the highest owner count\n",
        "highest_owner_count_car = df.loc[df['Owner_Count'].idxmax(), ['Brand', 'Model', 'Owner_Count']]\n",
        "print(f\" Car with the highest owner count{highest_owner_count_car}\")"
      ],
      "metadata": {
        "colab": {
          "base_uri": "https://localhost:8080/"
        },
        "id": "9kh6GP5oZFdu",
        "outputId": "a702e0d7-6fa9-4f25-8d28-0274f607498e"
      },
      "execution_count": null,
      "outputs": [
        {
          "output_type": "stream",
          "name": "stdout",
          "text": [
            " Car with the highest owner countBrand          Kia\n",
            "Model          Rio\n",
            "Owner_Count      5\n",
            "Name: 0, dtype: object\n"
          ]
        }
      ]
    },
    {
      "cell_type": "code",
      "source": [
        "# 19. Average engine size for diesel cars\n",
        "avg_engine_size_diesel = df[df['Fuel_Type'] == 'Diesel']['Engine_Size'].mean()\n",
        "print(f\" Average engine size for diesel cars is {avg_engine_size_diesel}\")"
      ],
      "metadata": {
        "colab": {
          "base_uri": "https://localhost:8080/"
        },
        "id": "KTvE03-zZIm6",
        "outputId": "b7edc069-01b4-47ba-eeef-a1563e479f90"
      },
      "execution_count": null,
      "outputs": [
        {
          "output_type": "stream",
          "name": "stdout",
          "text": [
            " Average engine size for diesel cars is 3.011863057324841\n"
          ]
        }
      ]
    },
    {
      "cell_type": "code",
      "source": [
        "# 20. Cars with price greater than $10,000\n",
        "cars_price_above_10k_count = df[df['Price'] > 10000].shape[0]\n",
        "print(f\" Cars with price greater than $10,000 : {cars_price_above_10k_count}\")"
      ],
      "metadata": {
        "colab": {
          "base_uri": "https://localhost:8080/"
        },
        "id": "Hn9wOOWeZNNO",
        "outputId": "ac311c3d-7cf3-4d08-cd43-bc988fa8311c"
      },
      "execution_count": null,
      "outputs": [
        {
          "output_type": "stream",
          "name": "stdout",
          "text": [
            " Cars with price greater than $10,000 : 3651\n"
          ]
        }
      ]
    },
    {
      "cell_type": "code",
      "source": [],
      "metadata": {
        "id": "KzW99hlwblx0"
      },
      "execution_count": null,
      "outputs": []
    }
  ]
}